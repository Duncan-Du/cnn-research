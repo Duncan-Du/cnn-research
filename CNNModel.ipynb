{
 "cells": [
  {
   "cell_type": "code",
   "execution_count": 1,
   "metadata": {
    "collapsed": true,
    "pycharm": {
     "name": "#%%\n"
    }
   },
   "outputs": [],
   "source": [
    "import numpy as np\n",
    "import torch\n",
    "import torch.nn as nn\n",
    "import torch.nn.functional as F\n",
    "from torch.nn import CrossEntropyLoss\n",
    "from torch.optim import Adam\n",
    "import matplotlib.pyplot as plt\n",
    "\n",
    "from tqdm import tqdm"
   ]
  },
  {
   "cell_type": "code",
   "execution_count": 2,
   "outputs": [],
   "source": [
    "DEBUG = True\n",
    "DEVICE = torch.device('cuda:0') if torch.cuda.is_available() and not DEBUG else 'cpu'"
   ],
   "metadata": {
    "collapsed": false,
    "pycharm": {
     "name": "#%%\n"
    }
   }
  },
  {
   "cell_type": "code",
   "execution_count": 3,
   "outputs": [],
   "source": [
    "class CNNModel(nn.Module):\n",
    "    def __init__(self, device='cpu'):\n",
    "        super().__init__()\n",
    "        self.conv1 = nn.Conv2d(1, 1, 5, padding=(2, 1), padding_mode=\"reflect\")\n",
    "        self.conv2 = nn.Conv2d(1, 1, 5, padding=(2, 1), padding_mode=\"reflect\")\n",
    "        self.conv3 = nn.Conv2d(1, 1, 5, padding=(2, 1), padding_mode=\"reflect\")\n",
    "        self.conv4 = nn.Conv2d(1, 1, 5, padding=(2, 1), padding_mode=\"reflect\")\n",
    "        self.conv5 = nn.Conv2d(1, 1, 5, padding=(2, 1), padding_mode=\"reflect\")\n",
    "        self.pool = nn.MaxPool1d(1, 3)\n",
    "        self.sigmoid = nn.Sigmoid()\n",
    "        self.to(device)\n",
    "\n",
    "\n",
    "    def forward(self, x):\n",
    "        dropped_one, n, d = x.shape\n",
    "        x = x.reshape((1, 1, n, d))\n",
    "        x = self.conv1(x)\n",
    "        # print(x.shape)\n",
    "        x = self.conv2(x)\n",
    "        # print(x.shape)\n",
    "        x = self.conv3(x)\n",
    "        # print(x.shape)\n",
    "        x = self.conv4(x)\n",
    "        # print(x.shape)\n",
    "        x = self.conv5(x)\n",
    "        dopped_one_1, dropped_one_2, n, d = x.shape\n",
    "        x = x.reshape((1, n, d))\n",
    "        x = self.pool(x)\n",
    "        # print(x.shape)\n",
    "        x = self.sigmoid(x)\n",
    "        return x"
   ],
   "metadata": {
    "collapsed": false,
    "pycharm": {
     "name": "#%%\n"
    }
   }
  },
  {
   "cell_type": "code",
   "execution_count": 4,
   "outputs": [
    {
     "name": "stdout",
     "output_type": "stream",
     "text": [
      "input shapetorch.Size([1, 70322, 13])\n",
      "output shapetorch.Size([1, 70322, 1])\n"
     ]
    }
   ],
   "source": [
    "import DataImport\n",
    "TRAIN_INPUT_FILE = \"train.csv\"\n",
    "TEST_INPUT_FILE = \"test.csv\"\n",
    "VAL_INPUT_FILE = \"valid.csv\"\n",
    "\n",
    "x_train, y_train = DataImport.import_data(TRAIN_INPUT_FILE, DEVICE)\n",
    "x_test, y_test = DataImport.import_data(TEST_INPUT_FILE, DEVICE)\n",
    "x_val, y_val = DataImport.import_data(VAL_INPUT_FILE, DEVICE)\n",
    "model = CNNModel()\n",
    "print(\"input shape\" + str(x_train.shape))\n",
    "test_output = model(x_train)\n",
    "print(\"output shape\" + str(test_output.shape))\n",
    "# print(test_output)"
   ],
   "metadata": {
    "collapsed": false,
    "pycharm": {
     "name": "#%%\n"
    }
   }
  },
  {
   "cell_type": "code",
   "execution_count": 5,
   "outputs": [],
   "source": [
    "def train(model, x_train, y_train, n_epochs=5, lr=0.0001):\n",
    "    optimizer = Adam(model.parameters(), lr=lr)\n",
    "    criterion = nn.BCELoss()\n",
    "\n",
    "    losses = []\n",
    "    for epoch in tqdm(range(n_epochs)):\n",
    "        optimizer.zero_grad()\n",
    "\n",
    "        output_train = model(x_train)\n",
    "        output_train = output_train.reshape((output_train.shape[1], output_train.shape[2]))\n",
    "        # print(output_train)\n",
    "        loss_train = criterion(output_train, y_train)\n",
    "        loss_train.backward()\n",
    "        optimizer.step()\n",
    "        loss_value = loss_train.item()\n",
    "        losses.append(loss_value)\n",
    "        if epoch % 100 == 0:\n",
    "            print(\"Epoch {}: loss = {}\".format(str(epoch), str(loss_value)))\n",
    "\n",
    "        if len(output_train.nonzero()) == 0:        # not sure if this works\n",
    "            print(\"Epoch {}: all zero output!\".format(str(epoch)))\n",
    "\n",
    "    return losses\n",
    "\n",
    "def calc_acc(y_pred, y, th=0.52):\n",
    "    #tp = 0\n",
    "    #tn = 0\n",
    "    size = len(y)\n",
    "    #for i in range(size):\n",
    "    #    if y_pred[i] >= th and y[i] == 1:\n",
    "    #        tp += 1\n",
    "    #    elif y_pred[i] < th and y[i] == 0:\n",
    "    #        tn += 1\n",
    "    #return float(tp + tn)*100/size\n",
    "    with torch.no_grad():\n",
    "        #print(y)\n",
    "        #print(y_pred)\n",
    "        y_th = torch.heaviside(y_pred - torch.tensor(th).expand_as(y_pred), torch.tensor(1.0).expand_as(y_pred))\n",
    "        tp = torch.sum(torch.logical_and(y_th, y))\n",
    "        p_pred = torch.sum(y_th)\n",
    "        p_label = torch.sum(y)\n",
    "        #print(y_th)\n",
    "        #print(torch.logical_xor(y_th, y))\n",
    "        acc = float(size - torch.sum(torch.logical_xor(y_th, y)))*100/size\n",
    "        prec = float(tp)*100/p_pred\n",
    "        rec = float(tp)*100/p_label\n",
    "    return [acc, prec, rec]"
   ],
   "metadata": {
    "collapsed": false,
    "pycharm": {
     "name": "#%%\n"
    }
   }
  },
  {
   "cell_type": "code",
   "execution_count": 6,
   "outputs": [
    {
     "name": "stderr",
     "output_type": "stream",
     "text": [
      "  1%|          | 1/100 [00:00<00:50,  1.96it/s]"
     ]
    },
    {
     "name": "stdout",
     "output_type": "stream",
     "text": [
      "Epoch 0: loss = 0.8854621648788452\n"
     ]
    },
    {
     "name": "stderr",
     "output_type": "stream",
     "text": [
      "100%|██████████| 100/100 [00:44<00:00,  2.23it/s]\n"
     ]
    }
   ],
   "source": [
    "model = CNNModel(DEVICE)\n",
    "losses = train(model, x_train, y_train, n_epochs=100, lr=0.001)"
   ],
   "metadata": {
    "collapsed": false,
    "pycharm": {
     "name": "#%%\n"
    }
   }
  },
  {
   "cell_type": "code",
   "execution_count": 7,
   "outputs": [
    {
     "data": {
      "text/plain": "Text(0, 0.5, 'Loss')"
     },
     "execution_count": 7,
     "metadata": {},
     "output_type": "execute_result"
    },
    {
     "data": {
      "text/plain": "<Figure size 432x288 with 1 Axes>",
      "image/png": "[encoded data removed]"
     },
     "metadata": {
      "needs_background": "light"
     },
     "output_type": "display_data"
    }
   ],
   "source": [
    "# print(losses)\n",
    "# plot\n",
    "plot_x = np.arange(1, 101)\n",
    "plot_y = np.array(losses)\n",
    "plt.plot(plot_x, plot_y)\n",
    "plt.title(\"Training loss\")\n",
    "plt.xlabel(\"Epoch\")\n",
    "plt.ylabel(\"Loss\")"
   ],
   "metadata": {
    "collapsed": false,
    "pycharm": {
     "name": "#%%\n"
    }
   }
  },
  {
   "cell_type": "code",
   "execution_count": 8,
   "outputs": [
    {
     "name": "stdout",
     "output_type": "stream",
     "text": [
      "Hyperparameter tuning\n",
      "best threshold:0.5\n",
      "52.36455696202532\n"
     ]
    }
   ],
   "source": [
    "print(\"Hyperparameter tuning\")\n",
    "best_th = 0.0\n",
    "best_acc = 0.0\n",
    "with torch.no_grad():\n",
    "    for i in range(100):\n",
    "        th = i / 100.0\n",
    "        y_prediction = model(x_val)\n",
    "        y_prediction = y_prediction.reshape((y_prediction.shape[1], y_prediction.shape[2]))\n",
    "        evauluation_result = calc_acc(y_prediction, y_val, th=th)\n",
    "        accuracy = evauluation_result[0]\n",
    "        if accuracy > best_acc:\n",
    "            best_acc = accuracy\n",
    "            best_th = th\n",
    "    print(\"best threshold:\" + str(best_th))\n",
    "    print(best_acc)"
   ],
   "metadata": {
    "collapsed": false,
    "pycharm": {
     "name": "#%%\n"
    }
   }
  },
  {
   "cell_type": "code",
   "execution_count": 9,
   "outputs": [
    {
     "name": "stdout",
     "output_type": "stream",
     "text": [
      "Evaluate on training data with best threshold\n",
      "[52.46295611615142, tensor(55.9459), tensor(38.6959)]\n"
     ]
    }
   ],
   "source": [
    "print(\"Evaluate on training data with best threshold\")\n",
    "with torch.no_grad():\n",
    "    y_prediction = model(x_train)\n",
    "    y_prediction = y_prediction.reshape((y_prediction.shape[1], y_prediction.shape[2]))\n",
    "    evauluation_result = calc_acc(y_prediction, y_train)\n",
    "    print(evauluation_result)"
   ],
   "metadata": {
    "collapsed": false,
    "pycharm": {
     "name": "#%%\n"
    }
   }
  },
  {
   "cell_type": "code",
   "execution_count": 10,
   "outputs": [
    {
     "ename": "ModuleNotFoundError",
     "evalue": "No module named 'seaborn'",
     "output_type": "error",
     "traceback": [
      "\u001B[0;31m---------------------------------------------------------------------------\u001B[0m",
      "\u001B[0;31mModuleNotFoundError\u001B[0m                       Traceback (most recent call last)",
      "\u001B[0;32m<ipython-input-10-9feb4ba14b5a>\u001B[0m in \u001B[0;36m<module>\u001B[0;34m\u001B[0m\n\u001B[1;32m      1\u001B[0m \u001B[0;31m# confusion matrix\u001B[0m\u001B[0;34m\u001B[0m\u001B[0;34m\u001B[0m\u001B[0;34m\u001B[0m\u001B[0m\n\u001B[1;32m      2\u001B[0m \u001B[0;31m# Confusion Matrix on submission_model_XX\u001B[0m\u001B[0;34m\u001B[0m\u001B[0;34m\u001B[0m\u001B[0;34m\u001B[0m\u001B[0m\n\u001B[0;32m----> 3\u001B[0;31m \u001B[0;32mimport\u001B[0m \u001B[0mseaborn\u001B[0m \u001B[0;32mas\u001B[0m \u001B[0msns\u001B[0m\u001B[0;34m\u001B[0m\u001B[0;34m\u001B[0m\u001B[0m\n\u001B[0m\u001B[1;32m      4\u001B[0m \u001B[0;32mimport\u001B[0m \u001B[0mpandas\u001B[0m \u001B[0;32mas\u001B[0m \u001B[0mpd\u001B[0m\u001B[0;34m\u001B[0m\u001B[0;34m\u001B[0m\u001B[0m\n\u001B[1;32m      5\u001B[0m \u001B[0;32mfrom\u001B[0m \u001B[0msklearn\u001B[0m\u001B[0;34m.\u001B[0m\u001B[0mmetrics\u001B[0m \u001B[0;32mimport\u001B[0m \u001B[0mconfusion_matrix\u001B[0m\u001B[0;34m\u001B[0m\u001B[0;34m\u001B[0m\u001B[0m\n",
      "\u001B[0;31mModuleNotFoundError\u001B[0m: No module named 'seaborn'"
     ]
    }
   ],
   "source": [
    "# confusion matrix\n",
    "# Confusion Matrix on submission_model_XX\n",
    "import seaborn as sns\n",
    "import pandas as pd\n",
    "from sklearn.metrics import confusion_matrix\n",
    "\n",
    "def plot_confusion_matrix(tp, fp, fn, tn):\n",
    "    \"\"\"\n",
    "    Plots a confusion matrix using the values\n",
    "       tp - True Positive\n",
    "       fp - False Positive\n",
    "       fn - False Negative\n",
    "       tn - True Negative\n",
    "    \"\"\"\n",
    "    data = np.matrix([[tp, fp], [fn, tn]])\n",
    "\n",
    "    sns.heatmap(data,annot=True,xticklabels=['Actual Pos', 'Actual Neg']\n",
    "              ,yticklabels=['Pred. Pos', 'Pred. Neg'])\n",
    "\n",
    "def plot_model(model_name, predictions, labels):\n",
    "    y_true = labels\n",
    "    y_pred = predictions\n",
    "    x = confusion_matrix(y_true, y_pred)\n",
    "    tp = x[1][1]\n",
    "    fp = x[0][1]\n",
    "    tn = x[0][0]\n",
    "    fn = x[1][0]\n",
    "    ax= plt.subplot()\n",
    "    plot_confusion_matrix(tp=tp, fp=fp, tn=tn, fn=fn)\n",
    "    ax.set_xlabel('Predicted labels')\n",
    "    ax.set_ylabel('True labels')\n",
    "    ax.set_title('Confusion Matrix' + model_name)\n",
    "\n",
    "with torch.no_grad():\n",
    "    y_prediction = model(x_test)\n",
    "    y_prediction_confusion = y_prediction.reshape(y_prediction.shape[1])\n",
    "    y_th = torch.heaviside(y_prediction_confusion\n",
    "                           - torch.tensor(best_th).expand_as(y_prediction_confusion),\n",
    "                           torch.tensor(1.0).expand_as(y_prediction_confusion))\n",
    "    y_test_confusion = y_test.reshape(y_test.shape[0])\n",
    "    plot_model(\"\", y_th, y_test_confusion)"
   ],
   "metadata": {
    "collapsed": false,
    "pycharm": {
     "name": "#%%\n"
    }
   }
  },
  {
   "cell_type": "code",
   "execution_count": 11,
   "outputs": [
    {
     "name": "stdout",
     "output_type": "stream",
     "text": [
      "Evaluate on testing data with best threshold\n",
      "[52.13850897304135, tensor(52.0168), tensor(26.0884)]\n"
     ]
    }
   ],
   "source": [
    "print(\"Evaluate on testing data with best threshold\")\n",
    "with torch.no_grad():\n",
    "    y_prediction = model(x_test)\n",
    "    y_prediction = y_prediction.reshape((y_prediction.shape[1], y_prediction.shape[2]))\n",
    "    evauluation_result = calc_acc(y_prediction, y_test, th=best_th)\n",
    "    print(evauluation_result)"
   ],
   "metadata": {
    "collapsed": false,
    "pycharm": {
     "name": "#%%\n"
    }
   }
  },
  {
   "cell_type": "code",
   "execution_count": null,
   "outputs": [],
   "source": [],
   "metadata": {
    "collapsed": false,
    "pycharm": {
     "name": "#%%\n"
    }
   }
  }
 ],
 "metadata": {
  "kernelspec": {
   "name": "pycharm-771afd6f",
   "language": "python",
   "display_name": "PyCharm (HW3)"
  },
  "language_info": {
   "codemirror_mode": {
    "name": "ipython",
    "version": 2
   },
   "file_extension": ".py",
   "mimetype": "text/x-python",
   "name": "python",
   "nbconvert_exporter": "python",
   "pygments_lexer": "ipython2",
   "version": "2.7.6"
  }
 },
 "nbformat": 4,
 "nbformat_minor": 0
}