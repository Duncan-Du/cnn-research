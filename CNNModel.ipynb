{
 "cells": [
  {
   "cell_type": "code",
   "execution_count": 49,
   "metadata": {
    "collapsed": true,
    "pycharm": {
     "name": "#%%\n"
    }
   },
   "outputs": [],
   "source": [
    "import numpy as np\n",
    "import torch\n",
    "import torch.nn as nn\n",
    "import torch.nn.functional as F\n",
    "from torch.nn import CrossEntropyLoss\n",
    "from torch.optim import Adam\n",
    "\n",
    "from tqdm import tqdm"
   ]
  },
  {
   "cell_type": "code",
   "execution_count": 50,
   "outputs": [],
   "source": [
    "DEBUG = True\n",
    "DEVICE = torch.device('cuda:0') if torch.cuda.is_available() and not DEBUG else 'cpu'"
   ],
   "metadata": {
    "collapsed": false,
    "pycharm": {
     "name": "#%%\n"
    }
   }
  },
  {
   "cell_type": "code",
   "execution_count": 51,
   "outputs": [],
   "source": [
    "class CNNModel(nn.Module):\n",
    "    def __init__(self, device='cpu'):\n",
    "        super().__init__()\n",
    "        self.conv1 = nn.Conv2d(1, 1, 5, padding=(2, 1), padding_mode=\"reflect\")\n",
    "        self.conv2 = nn.Conv2d(1, 1, 5, padding=(2, 1), padding_mode=\"reflect\")\n",
    "        self.conv3 = nn.Conv2d(1, 1, 5, padding=(2, 1), padding_mode=\"reflect\")\n",
    "        self.conv4 = nn.Conv2d(1, 1, 5, padding=(2, 1), padding_mode=\"reflect\")\n",
    "        self.conv5 = nn.Conv2d(1, 1, 5, padding=(2, 1), padding_mode=\"reflect\")\n",
    "        self.pool = nn.MaxPool1d(1, 3)\n",
    "        self.softmax = nn.Softmax(dim=1)\n",
    "        self.to(device)\n",
    "\n",
    "\n",
    "    def forward(self, x):\n",
    "        x = self.conv1(x)\n",
    "        # print(x.shape)\n",
    "        x = self.conv2(x)\n",
    "        # print(x.shape)\n",
    "        x = self.conv3(x)\n",
    "        # print(x.shape)\n",
    "        x = self.conv4(x)\n",
    "        # print(x.shape)\n",
    "        x = self.conv5(x)\n",
    "        # print(x.shape)\n",
    "        x = self.pool(x)\n",
    "        # print(x.shape)\n",
    "        x = self.softmax(x)\n",
    "        return x"
   ],
   "metadata": {
    "collapsed": false,
    "pycharm": {
     "name": "#%%\n"
    }
   }
  },
  {
   "cell_type": "code",
   "execution_count": 52,
   "outputs": [
    {
     "name": "stdout",
     "output_type": "stream",
     "text": [
      "input shapetorch.Size([1, 70322, 13])\n",
      "output shapetorch.Size([1, 70322, 1])\n"
     ]
    }
   ],
   "source": [
    "import DataImport\n",
    "INPUT_FILE = \"train.csv\"\n",
    "\n",
    "x_train, y_train = DataImport.import_data(INPUT_FILE, DEVICE)\n",
    "model = CNNModel()\n",
    "print(\"input shape\" + str(x_train.shape))\n",
    "test_output = model(x_train)\n",
    "print(\"output shape\" + str(test_output.shape))\n",
    "# print(test_output)"
   ],
   "metadata": {
    "collapsed": false,
    "pycharm": {
     "name": "#%%\n"
    }
   }
  },
  {
   "cell_type": "code",
   "execution_count": 53,
   "outputs": [],
   "source": [
    "def train(model, x_train, y_train, n_epochs=5, lr=0.0001):\n",
    "    optimizer = Adam(model.parameters(), lr=lr)\n",
    "    criterion = nn.BCELoss()\n",
    "\n",
    "    losses = []\n",
    "    for epoch in tqdm(range(n_epochs)):\n",
    "        optimizer.zero_grad()\n",
    "\n",
    "        output_train = model(x_train)\n",
    "        output_train = output_train.reshape((output_train.shape[1], output_train.shape[2]))\n",
    "        # print(output_train)\n",
    "        loss_train = criterion(output_train, y_train)\n",
    "        loss_train.backward()\n",
    "        optimizer.step()\n",
    "        loss_value = loss_train.item()\n",
    "        losses.append(loss_value)\n",
    "        if epoch % 100 == 0:\n",
    "            print(\"Epoch {}: loss = {}\".format(str(epoch), str(loss_value)))\n",
    "\n",
    "        if len(output_train.nonzero()) == 0:        # not sure if this works\n",
    "            print(\"Epoch {}: all zero output!\".format(str(epoch)))\n",
    "\n",
    "    return losses\n",
    "\n",
    "def calc_acc(y_pred, y, th=1.0):\n",
    "    #tp = 0\n",
    "    #tn = 0\n",
    "    size = len(y)\n",
    "    #for i in range(size):\n",
    "    #    if y_pred[i] >= th and y[i] == 1:\n",
    "    #        tp += 1\n",
    "    #    elif y_pred[i] < th and y[i] == 0:\n",
    "    #        tn += 1\n",
    "    #return float(tp + tn)*100/size\n",
    "    with torch.no_grad():\n",
    "        #print(y)\n",
    "        #print(y_pred)\n",
    "        y_th = torch.heaviside(y_pred - torch.tensor(th).expand_as(y_pred), torch.tensor(1.0).expand_as(y_pred))\n",
    "        tp = torch.sum(torch.logical_and(y_th, y))\n",
    "        p_pred = torch.sum(y_th)\n",
    "        p_label = torch.sum(y)\n",
    "        #print(y_th)\n",
    "        #print(torch.logical_xor(y_th, y))\n",
    "        acc = float(size - torch.sum(torch.logical_xor(y_th, y)))*100/size\n",
    "        prec = float(tp)*100/p_pred\n",
    "        rec = float(tp)*100/p_label\n",
    "    return [acc, prec, rec]"
   ],
   "metadata": {
    "collapsed": false,
    "pycharm": {
     "name": "#%%\n"
    }
   }
  },
  {
   "cell_type": "code",
   "execution_count": 54,
   "outputs": [
    {
     "name": "stderr",
     "output_type": "stream",
     "text": [
      "  1%|          | 1/100 [00:00<00:35,  2.78it/s]"
     ]
    },
    {
     "name": "stdout",
     "output_type": "stream",
     "text": [
      "Epoch 0: loss = 51.798866271972656\n"
     ]
    },
    {
     "name": "stderr",
     "output_type": "stream",
     "text": [
      "100%|██████████| 100/100 [00:33<00:00,  2.97it/s]\n"
     ]
    }
   ],
   "source": [
    "model = CNNModel(DEVICE)\n",
    "losses = train(model, x_train, y_train, n_epochs=100, lr=0.001)\n",
    "# print(losses)"
   ],
   "metadata": {
    "collapsed": false,
    "pycharm": {
     "name": "#%%\n"
    }
   }
  },
  {
   "cell_type": "code",
   "execution_count": 55,
   "outputs": [
    {
     "name": "stdout",
     "output_type": "stream",
     "text": [
      "[48.201131935951764, tensor(0.), tensor(0.)]\n"
     ]
    }
   ],
   "source": [
    "with torch.no_grad():\n",
    "    y_prediction = model(x_train)\n",
    "    y_prediction = y_prediction.reshape((y_prediction.shape[1], y_prediction.shape[2]))\n",
    "    evauluation_result = calc_acc(y_prediction, y_train)\n",
    "    print(evauluation_result)"
   ],
   "metadata": {
    "collapsed": false,
    "pycharm": {
     "name": "#%%\n"
    }
   }
  },
  {
   "cell_type": "code",
   "execution_count": 55,
   "outputs": [],
   "source": [],
   "metadata": {
    "collapsed": false,
    "pycharm": {
     "name": "#%%\n"
    }
   }
  }
 ],
 "metadata": {
  "kernelspec": {
   "display_name": "Python 3",
   "language": "python",
   "name": "python3"
  },
  "language_info": {
   "codemirror_mode": {
    "name": "ipython",
    "version": 2
   },
   "file_extension": ".py",
   "mimetype": "text/x-python",
   "name": "python",
   "nbconvert_exporter": "python",
   "pygments_lexer": "ipython2",
   "version": "2.7.6"
  }
 },
 "nbformat": 4,
 "nbformat_minor": 0
}