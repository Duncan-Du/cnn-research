{
 "cells": [
  {
   "cell_type": "code",
   "execution_count": 52,
   "metadata": {
    "collapsed": true,
    "pycharm": {
     "name": "#%%\n"
    }
   },
   "outputs": [],
   "source": [
    "import numpy as np\n",
    "import torch\n",
    "import torch.nn as nn\n",
    "import torch.nn.functional as F\n",
    "from torch.nn import CrossEntropyLoss\n",
    "from torch.optim import Adam\n",
    "\n",
    "from tqdm import tqdm"
   ]
  },
  {
   "cell_type": "code",
   "execution_count": 53,
   "outputs": [],
   "source": [
    "DEBUG = True\n",
    "DEVICE = torch.device('cuda:0') if torch.cuda.is_available() and not DEBUG else 'cpu'"
   ],
   "metadata": {
    "collapsed": false,
    "pycharm": {
     "name": "#%%\n"
    }
   }
  },
  {
   "cell_type": "code",
   "execution_count": 54,
   "outputs": [],
   "source": [
    "class CNNModel(nn.Module):\n",
    "    def __init__(self, device='cpu'):\n",
    "        super().__init__()\n",
    "        self.conv1 = nn.Conv2d(1, 3, 5)\n",
    "        self.pool1 = nn.MaxPool2d(2, 2)\n",
    "        self.conv2 = nn.Conv2d(3, 8, 2)\n",
    "        self.linear1 = nn.Linear(8 * 2 * 3, 8 * 3)\n",
    "        self.linear2 = nn.Linear(24, 8)\n",
    "        self.linear3 = nn.Linear(8, 1)\n",
    "        self.to(device)\n",
    "\n",
    "\n",
    "    def forward(self, x):\n",
    "        x = self.conv1(x)\n",
    "        # print(\"Layer 1 output shape: \" + str(x.shape))\n",
    "        x = self.pool1(x)\n",
    "        # print(\"Pool 1 output shape: \" + str(x.shape))\n",
    "        x = self.conv2(x)\n",
    "        # print(\"Layer 2 output shape: \" + str(x.shape))\n",
    "        x = torch.flatten(x, 1) # flatten\n",
    "        # print(\"Flattened shape: \" + str(x.shape))\n",
    "        x = self.linear1(x)\n",
    "        # print(\"Linear 1 output shape: \" + str(x.shape))\n",
    "        x = self.linear2(x)\n",
    "        # print(\"Linear 2 output shape: \" + str(x.shape))\n",
    "        x = self.linear3(x)\n",
    "        # print(\"Linear 3 output shape: \" + str(x.shape))\n",
    "        x = torch.sigmoid(x)\n",
    "        return x"
   ],
   "metadata": {
    "collapsed": false,
    "pycharm": {
     "name": "#%%\n"
    }
   }
  },
  {
   "cell_type": "code",
   "execution_count": 55,
   "outputs": [
    {
     "name": "stdout",
     "output_type": "stream",
     "text": [
      "Importing Data...\n"
     ]
    },
    {
     "name": "stderr",
     "output_type": "stream",
     "text": [
      "100%|██████████| 70312/70312 [07:14<00:00, 161.86it/s] \n"
     ]
    },
    {
     "name": "stdout",
     "output_type": "stream",
     "text": [
      "input shape torch.Size([70322, 1, 11, 13])\n",
      "output shape: torch.Size([70322, 1])\n"
     ]
    }
   ],
   "source": [
    "import DataImport\n",
    "INPUT_FILE = \"train.csv\"\n",
    "\n",
    "print(\"Importing Data...\")\n",
    "x_train, y_train = DataImport.import_data(INPUT_FILE, DEVICE)\n",
    "model = CNNModel()\n",
    "print(\"input shape \" + str(x_train.shape))\n",
    "test_output = model(x_train)\n",
    "print(\"output shape: \" + str(test_output.shape))\n",
    "# print(test_output)"
   ],
   "metadata": {
    "collapsed": false,
    "pycharm": {
     "name": "#%%\n"
    }
   }
  },
  {
   "cell_type": "code",
   "execution_count": 56,
   "outputs": [],
   "source": [
    "def train(model, x_train, y_train, n_epochs=5, lr=0.0001):\n",
    "    optimizer = Adam(model.parameters(), lr=lr)\n",
    "    criterion = nn.BCELoss()\n",
    "\n",
    "    losses = []\n",
    "    for epoch in tqdm(range(n_epochs)):\n",
    "        optimizer.zero_grad()\n",
    "\n",
    "        output_train = model(x_train)\n",
    "        # print(output_train)\n",
    "        loss_train = criterion(output_train, y_train)\n",
    "        loss_train.backward()\n",
    "        optimizer.step()\n",
    "        loss_value = loss_train.item()\n",
    "        losses.append(loss_value)\n",
    "        if epoch % 100 == 0:\n",
    "            print(\"Epoch {}: loss = {}\".format(str(epoch), str(loss_value)))\n",
    "\n",
    "        # if len(output_train.nonzero()) == 0:        # not sure if this works\n",
    "        #     print(\"Epoch {}: all zero output!\".format(str(epoch)))\n",
    "\n",
    "    return losses\n",
    "\n",
    "def calc_acc(y_pred, y, th=1.0):\n",
    "    #tp = 0\n",
    "    #tn = 0\n",
    "    size = len(y)\n",
    "    #for i in range(size):\n",
    "    #    if y_pred[i] >= th and y[i] == 1:\n",
    "    #        tp += 1\n",
    "    #    elif y_pred[i] < th and y[i] == 0:\n",
    "    #        tn += 1\n",
    "    #return float(tp + tn)*100/size\n",
    "    with torch.no_grad():\n",
    "        #print(y)\n",
    "        #print(y_pred)\n",
    "        y_th = torch.heaviside(y_pred - torch.tensor(th).expand_as(y_pred), torch.tensor(1.0).expand_as(y_pred))\n",
    "        tp = torch.sum(torch.logical_and(y_th, y))\n",
    "        p_pred = torch.sum(y_th)\n",
    "        p_label = torch.sum(y)\n",
    "        #print(y_th)\n",
    "        #print(torch.logical_xor(y_th, y))\n",
    "        acc = float(size - torch.sum(torch.logical_xor(y_th, y)))*100/size\n",
    "        prec = float(tp)*100/p_pred\n",
    "        rec = float(tp)*100/p_label\n",
    "    return [acc, prec, rec]"
   ],
   "metadata": {
    "collapsed": false,
    "pycharm": {
     "name": "#%%\n"
    }
   }
  },
  {
   "cell_type": "code",
   "execution_count": 57,
   "outputs": [
    {
     "name": "stderr",
     "output_type": "stream",
     "text": [
      "  0%|          | 1/1000 [00:00<11:28,  1.45it/s]"
     ]
    },
    {
     "name": "stdout",
     "output_type": "stream",
     "text": [
      "Epoch 0: loss = 1.4922934770584106\n"
     ]
    },
    {
     "name": "stderr",
     "output_type": "stream",
     "text": [
      " 10%|█         | 101/1000 [01:04<09:30,  1.58it/s]"
     ]
    },
    {
     "name": "stdout",
     "output_type": "stream",
     "text": [
      "Epoch 100: loss = 0.7421825528144836\n"
     ]
    },
    {
     "name": "stderr",
     "output_type": "stream",
     "text": [
      " 20%|██        | 201/1000 [02:10<08:21,  1.59it/s]"
     ]
    },
    {
     "name": "stdout",
     "output_type": "stream",
     "text": [
      "Epoch 200: loss = 0.7352596521377563\n"
     ]
    },
    {
     "name": "stderr",
     "output_type": "stream",
     "text": [
      " 30%|███       | 301/1000 [03:17<08:01,  1.45it/s]"
     ]
    },
    {
     "name": "stdout",
     "output_type": "stream",
     "text": [
      "Epoch 300: loss = 0.7319010496139526\n"
     ]
    },
    {
     "name": "stderr",
     "output_type": "stream",
     "text": [
      " 40%|████      | 401/1000 [04:26<07:42,  1.29it/s]"
     ]
    },
    {
     "name": "stdout",
     "output_type": "stream",
     "text": [
      "Epoch 400: loss = 0.7302696108818054\n"
     ]
    },
    {
     "name": "stderr",
     "output_type": "stream",
     "text": [
      " 50%|█████     | 501/1000 [05:31<05:23,  1.54it/s]"
     ]
    },
    {
     "name": "stdout",
     "output_type": "stream",
     "text": [
      "Epoch 500: loss = 0.7264845371246338\n"
     ]
    },
    {
     "name": "stderr",
     "output_type": "stream",
     "text": [
      " 60%|██████    | 601/1000 [06:33<04:12,  1.58it/s]"
     ]
    },
    {
     "name": "stdout",
     "output_type": "stream",
     "text": [
      "Epoch 600: loss = 0.7244583964347839\n"
     ]
    },
    {
     "name": "stderr",
     "output_type": "stream",
     "text": [
      " 70%|███████   | 701/1000 [07:42<03:17,  1.51it/s]"
     ]
    },
    {
     "name": "stdout",
     "output_type": "stream",
     "text": [
      "Epoch 700: loss = 0.7240389585494995\n"
     ]
    },
    {
     "name": "stderr",
     "output_type": "stream",
     "text": [
      " 80%|████████  | 801/1000 [08:48<02:18,  1.43it/s]"
     ]
    },
    {
     "name": "stdout",
     "output_type": "stream",
     "text": [
      "Epoch 800: loss = 0.7237185835838318\n"
     ]
    },
    {
     "name": "stderr",
     "output_type": "stream",
     "text": [
      " 90%|█████████ | 901/1000 [09:53<01:05,  1.51it/s]"
     ]
    },
    {
     "name": "stdout",
     "output_type": "stream",
     "text": [
      "Epoch 900: loss = 0.7234734892845154\n"
     ]
    },
    {
     "name": "stderr",
     "output_type": "stream",
     "text": [
      "100%|██████████| 1000/1000 [10:57<00:00,  1.52it/s]\n"
     ]
    }
   ],
   "source": [
    "model = CNNModel(DEVICE)\n",
    "losses = train(model, x_train, y_train, n_epochs=1000, lr=0.0002)\n",
    "# print(losses)"
   ],
   "metadata": {
    "collapsed": false,
    "pycharm": {
     "name": "#%%\n"
    }
   }
  },
  {
   "cell_type": "code",
   "execution_count": 58,
   "outputs": [
    {
     "name": "stdout",
     "output_type": "stream",
     "text": [
      "[48.21250817667302, tensor(62.9630), tensor(0.0467)]\n"
     ]
    }
   ],
   "source": [
    "with torch.no_grad():\n",
    "    y_prediction = model(x_train)\n",
    "    evauluation_result = calc_acc(y_prediction, y_train)\n",
    "    print(evauluation_result)"
   ],
   "metadata": {
    "collapsed": false,
    "pycharm": {
     "name": "#%%\n"
    }
   }
  },
  {
   "cell_type": "code",
   "execution_count": 58,
   "outputs": [],
   "source": [],
   "metadata": {
    "collapsed": false,
    "pycharm": {
     "name": "#%%\n"
    }
   }
  }
 ],
 "metadata": {
  "kernelspec": {
   "display_name": "Python 3",
   "language": "python",
   "name": "python3"
  },
  "language_info": {
   "codemirror_mode": {
    "name": "ipython",
    "version": 2
   },
   "file_extension": ".py",
   "mimetype": "text/x-python",
   "name": "python",
   "nbconvert_exporter": "python",
   "pygments_lexer": "ipython2",
   "version": "2.7.6"
  }
 },
 "nbformat": 4,
 "nbformat_minor": 0
}