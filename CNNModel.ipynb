{
 "cells": [
  {
   "cell_type": "code",
   "execution_count": 11,
   "metadata": {
    "collapsed": true,
    "pycharm": {
     "name": "#%%\n"
    }
   },
   "outputs": [],
   "source": [
    "import numpy as np\n",
    "import torch\n",
    "import torch.nn as nn\n",
    "import torch.nn.functional as F\n",
    "from torch.nn import CrossEntropyLoss\n",
    "from torch.optim import Adam\n",
    "\n",
    "import DataImport"
   ]
  },
  {
   "cell_type": "code",
   "execution_count": 12,
   "outputs": [],
   "source": [
    "INPUT_FILE = \"mini.csv\""
   ],
   "metadata": {
    "collapsed": false,
    "pycharm": {
     "name": "#%%\n"
    }
   }
  },
  {
   "cell_type": "code",
   "execution_count": 13,
   "outputs": [],
   "source": [
    "DEBUG = True\n",
    "DEVICE = torch.device('cuda:0') if torch.cuda.is_available() and not DEBUG else 'cpu'"
   ],
   "metadata": {
    "collapsed": false,
    "pycharm": {
     "name": "#%%\n"
    }
   }
  },
  {
   "cell_type": "code",
   "execution_count": 62,
   "outputs": [],
   "source": [
    "class CNNModel(nn.Module):\n",
    "    def __init__(self, device='cpu'):\n",
    "        super().__init__()\n",
    "        self.conv1 = nn.Conv2d(1, 1, 5, padding=(2, 1))\n",
    "        self.conv2 = nn.Conv2d(1, 1, 5, padding=(2, 1))\n",
    "        self.conv3 = nn.Conv2d(1, 1, 5, padding=(2, 1))\n",
    "        self.conv4 = nn.Conv2d(1, 1, 5, padding=(2, 1))\n",
    "        self.conv5 = nn.Conv2d(1, 1, 5, padding=(2, 1))\n",
    "        self.pool = nn.MaxPool1d(1, 3)\n",
    "        self.to(device)\n",
    "\n",
    "\n",
    "    def forward(self, x):\n",
    "        x = F.relu(self.conv1(x))\n",
    "        print(x.shape)\n",
    "        x = F.relu(self.conv2(x))\n",
    "        print(x.shape)\n",
    "        x = F.relu(self.conv3(x))\n",
    "        print(x.shape)\n",
    "        x = F.relu(self.conv4(x))\n",
    "        print(x.shape)\n",
    "        x = F.relu(self.conv5(x))\n",
    "        print(x.shape)\n",
    "        x = F.relu(self.pool(x))\n",
    "        print(x.shape)\n",
    "        return x"
   ],
   "metadata": {
    "collapsed": false,
    "pycharm": {
     "name": "#%%\n"
    }
   }
  },
  {
   "cell_type": "code",
   "execution_count": 63,
   "outputs": [
    {
     "name": "stdout",
     "output_type": "stream",
     "text": [
      "input shapetorch.Size([1, 6, 13])\n",
      "torch.Size([1, 6, 11])\n",
      "torch.Size([1, 6, 9])\n",
      "torch.Size([1, 6, 7])\n",
      "torch.Size([1, 6, 5])\n",
      "torch.Size([1, 6, 3])\n",
      "torch.Size([1, 6, 1])\n",
      "output shapetorch.Size([1, 6, 1])\n"
     ]
    }
   ],
   "source": [
    "x_data, y_data = DataImport.import_data(INPUT_FILE, DEVICE)\n",
    "model = CNNModel()\n",
    "print(\"input shape\" + str(x_data.shape))\n",
    "test_output = model(x_data)\n",
    "print(\"output shape\" + str(test_output.shape))\n",
    "# print(test_output)"
   ],
   "metadata": {
    "collapsed": false,
    "pycharm": {
     "name": "#%%\n"
    }
   }
  },
  {
   "cell_type": "code",
   "execution_count": null,
   "outputs": [],
   "source": [
    "def train(model, x_train, y_train, n_epochs=5, lr=0.0001):\n",
    "    optimizer = Adam(model.parameters(), lr=lr)\n",
    "    criterion = CrossEntropyLoss()\n",
    "\n",
    "    optimizer.zero_grad()\n",
    "\n",
    "    output_train = model(x_train)\n",
    "    loss_train = criterion(output_train, y_train)\n",
    "\n",
    "\n",
    "\n"
   ],
   "metadata": {
    "collapsed": false,
    "pycharm": {
     "name": "#%%\n"
    }
   }
  },
  {
   "cell_type": "code",
   "execution_count": 47,
   "outputs": [],
   "source": [
    "model = CNNModel(DEVICE)\n"
   ],
   "metadata": {
    "collapsed": false,
    "pycharm": {
     "name": "#%%\n"
    }
   }
  },
  {
   "cell_type": "code",
   "execution_count": null,
   "outputs": [],
   "source": [],
   "metadata": {
    "collapsed": false,
    "pycharm": {
     "name": "#%%\n"
    }
   }
  }
 ],
 "metadata": {
  "kernelspec": {
   "display_name": "Python 3",
   "language": "python",
   "name": "python3"
  },
  "language_info": {
   "codemirror_mode": {
    "name": "ipython",
    "version": 2
   },
   "file_extension": ".py",
   "mimetype": "text/x-python",
   "name": "python",
   "nbconvert_exporter": "python",
   "pygments_lexer": "ipython2",
   "version": "2.7.6"
  }
 },
 "nbformat": 4,
 "nbformat_minor": 0
}