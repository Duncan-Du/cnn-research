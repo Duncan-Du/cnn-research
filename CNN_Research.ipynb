{
  "nbformat": 4,
  "nbformat_minor": 0,
  "metadata": {
    "colab": {
      "provenance": []
    },
    "kernelspec": {
      "name": "python3",
      "display_name": "Python 3"
    },
    "language_info": {
      "name": "python"
    }
  },
  "cells": [
    {
      "cell_type": "markdown",
      "source": [
        "This CNN Research Project is based on the joint works of Zheng Cao, Wenyu Du, and Kirill V. Golubnichiy."
      ],
      "metadata": {
        "id": "iezMvOHc-7yy"
      }
    },
    {
      "cell_type": "code",
      "source": [
        "# import libraries and mount to google drive\n",
        "import sys\n",
        "import os\n",
        "import csv\n",
        "import math\n",
        "import torch\n",
        "import torch.nn as nn\n",
        "import torch.nn.functional as F\n",
        "from torch.nn import CrossEntropyLoss\n",
        "from torch.optim import Adam\n",
        "import torch.optim as optim\n",
        "import numpy as np\n",
        "import pandas as pd\n",
        "import tensorflow as tf\n",
        "from tensorflow.keras import layers\n",
        "from torch.utils.data import Dataset\n",
        "from tqdm import tqdm\n",
        "import matplotlib.pyplot as plt\n",
        "import seaborn as sns\n",
        "from sklearn.metrics import confusion_matrix\n",
        "from sklearn.model_selection import train_test_split\n",
        "from sklearn.linear_model import LogisticRegression\n",
        "from sklearn.metrics import accuracy_score, confusion_matrix\n",
        "\n",
        "from google.colab import drive\n",
        "drive.mount('/content/drive')"
      ],
      "metadata": {
        "colab": {
          "base_uri": "https://localhost:8080/"
        },
        "id": "l8B6k4Ex8kWQ",
        "outputId": "c91c7ee4-84ce-4ce3-cecf-498017a08426"
      },
      "execution_count": 17,
      "outputs": [
        {
          "output_type": "stream",
          "name": "stdout",
          "text": [
            "Drive already mounted at /content/drive; to attempt to forcibly remount, call drive.mount(\"/content/drive\", force_remount=True).\n"
          ]
        }
      ]
    },
    {
      "cell_type": "code",
      "source": [
        "# set up DEVICE and import data\n",
        "DEBUG = True\n",
        "DEVICE = torch.device('cuda:0') if torch.cuda.is_available() and not DEBUG else 'cpu'\n",
        "\n",
        "mini_data = pd.read_csv('/content/mini.csv')\n",
        "mini2_data = pd.read_csv('/content/mini2.csv')\n",
        "train_data = pd.read_csv('/content/train.csv')\n",
        "valid_data = pd.read_csv('/content/valid.csv')\n",
        "test_data = pd.read_csv('/content/test.csv')\n",
        "\n",
        "input_file = '/content/train.csv'"
      ],
      "metadata": {
        "id": "XiBg0VYz8tcd"
      },
      "execution_count": 18,
      "outputs": []
    },
    {
      "cell_type": "code",
      "source": [
        "# Splitting Data for Training\n",
        "DEVICE = get_device()\n",
        "\n",
        "TRAIN_INPUT_FILE = '/content/train.csv'\n",
        "TEST_INPUT_FILE = '/content/test.csv'\n",
        "VAL_INPUT_FILE = '/content/valid.csv'\n",
        "\n",
        "X_train, y_train = import_data(TRAIN_INPUT_FILE, DEVICE)\n",
        "X_test, y_test = import_data(TEST_INPUT_FILE, DEVICE)\n",
        "X_val, y_val = import_data(VAL_INPUT_FILE, DEVICE)\n",
        "\n",
        "print(\"Importing Data...\")\n",
        "X_train, y_train = import_data(TRAIN_INPUT_FILE)\n",
        "\n",
        "\n",
        "print(X_train.shape) # torch.Size([1, 70322, 13])\n",
        "\n",
        "print(y_train.shape) # torch.Size([70322, 1])"
      ],
      "metadata": {
        "colab": {
          "base_uri": "https://localhost:8080/"
        },
        "id": "dRbgRYiQ-Rfg",
        "outputId": "5a524b66-465a-4eff-9d8e-40515be044cc"
      },
      "execution_count": 19,
      "outputs": [
        {
          "output_type": "stream",
          "name": "stdout",
          "text": [
            "Importing Data...\n",
            "torch.Size([1, 70322, 13])\n",
            "torch.Size([70322, 1])\n"
          ]
        }
      ]
    },
    {
      "cell_type": "code",
      "source": [
        "class OptionDataset(Dataset):\n",
        "    def __init__(self, csv_file, transform=None):\n",
        "        self.data = pd.read_csv(csv_file)\n",
        "        self.transform = transform\n",
        "\n",
        "    def __len__(self):\n",
        "        return len(self.data)\n",
        "\n",
        "    def __getitem__(self, idx):\n",
        "        if torch.is_tensor(idx):\n",
        "            idx = idx.tolist()\n",
        "\n",
        "        row = self.data.iloc[idx]\n",
        "        if self.transform:\n",
        "            row = self.transform(row)\n",
        "        return row\n",
        "\n",
        "\n",
        "def get_device():\n",
        "    if torch.cuda.is_available() and not debug:\n",
        "        device = torch.device('cuda:0')\n",
        "    else:\n",
        "        device = torch.device('cpu')  # don't have GPU\n",
        "    return device\n",
        "\n",
        "\n",
        "def init_weights(m):\n",
        "    print(m)\n",
        "\n",
        "# Add the parse_data function\n",
        "def import_data(input_file, device='cpu', split=False):\n",
        "    input_df = np.array((list(csv.reader(open(input_file, \"r\"))))[1:], dtype=object)\n",
        "\n",
        "    size_train = len(input_df)\n",
        "\n",
        "    ml_th = 0.52\n",
        "    tp = 0\n",
        "    tn = 0\n",
        "    ps = 0\n",
        "\n",
        "    min_norm = 10000.0\n",
        "    max_norm = -10000.0\n",
        "\n",
        "    for i in range(len(input_df)):\n",
        "        for j in range(4, 23):\n",
        "            input_df[i][j] = float(input_df[i][j])\n",
        "        # label\n",
        "        real0 = (input_df[i][6] + input_df[i][9]) / 2\n",
        "        label = 1 if input_df[i][17] >= real0 - 0.000000001 else 0\n",
        "\n",
        "        forecast = 1 if input_df[i][15] >= real0 - 0.000000001 else 0\n",
        "        input_df[i][3] = forecast\n",
        "        input_df[i][1] = input_df[i][17] / real0 - 1.0  # RoI\n",
        "        input_df[i][17] = label\n",
        "        ps += forecast\n",
        "\n",
        "        if forecast == 1 and label == 1:\n",
        "            tp += 1\n",
        "        elif forecast == 0 and label == 0:\n",
        "            tn += 1\n",
        "        # normalization\n",
        "        # print(input_df[i][0])\n",
        "        strike = float(input_df[i][0].split(' ')[-2][1:])\n",
        "        s_ask = input_df[i][10] - strike\n",
        "        s_bid = input_df[i][11] - strike\n",
        "        s = (input_df[i][10] + input_df[i][11]) / 2\n",
        "        norm = (s - strike) / (s + strike)\n",
        "        if norm > max_norm:\n",
        "            max_norm = norm\n",
        "        if norm < min_norm:\n",
        "            min_norm = norm\n",
        "        input_df[i][2] = norm\n",
        "\n",
        "        total = 0.0\n",
        "        for j in range(4, 10):\n",
        "            total += input_df[i][j]\n",
        "        av = total / 6.0\n",
        "        sigma = 0.0\n",
        "        for j in range(4, 10):\n",
        "            sigma += (input_df[i][j] - av) ** 2\n",
        "        sigma = math.sqrt(sigma / 5.0)\n",
        "        for j in range(4, 10):\n",
        "            input_df[i][j] = (input_df[i][j] - av) / sigma\n",
        "        input_df[i][10] = (s_ask - av) / sigma\n",
        "        input_df[i][11] = (s_bid - av) / sigma\n",
        "        input_df[i][15] = (input_df[i][15] - av) / sigma\n",
        "        input_df[i][16] = (input_df[i][16] - av) / sigma\n",
        "        # print(input_df[i])\n",
        "\n",
        "    x = torch.Tensor(input_df[0:size_train, 4:17].astype(float)).float().to(device)\n",
        "    # print(x)\n",
        "    y = torch.from_numpy(input_df[0:size_train, 17:18].astype(float)).float().to(device)\n",
        "\n",
        "    if split:\n",
        "        x_train, x_val, x_test, y_train, y_val, y_test = data_split(x, y)\n",
        "        x_train = x_train.reshape((1, x_train.shape[0], x_train.shape[1]))\n",
        "        x_val = x_val.reshape((1, x_val.shape[0], x_val.shape[1]))\n",
        "        x_test = x_test.reshape((1, x_test.shape[0], x_test.shape[1]))\n",
        "        return x_train, x_val, x_test, y_train, y_val, y_test\n",
        "    else:\n",
        "        x = x.reshape((1, x.shape[0], x.shape[1]))\n",
        "        return x, y\n",
        "\n",
        "\n",
        "def data_split(x, y):\n",
        "    n = len(y)\n",
        "    random_indices = torch.randperm(n)\n",
        "    num_train = int(n * 0.7)\n",
        "    num_val = int(n * 0.2)\n",
        "\n",
        "    X_train = x[random_indices[:num_train]]\n",
        "    X_train = y[random_indices[:num_train]]\n",
        "    X_val = x[random_indices[num_train:num_train + num_val]]\n",
        "    y_val = y[random_indices[num_train:num_train + num_val]]\n",
        "    X_test = x[random_indices[num_train + num_val:]]\n",
        "    y_test = y[random_indices[num_train + num_val:]]\n",
        "    return X_train, X_val, X_test, y_train, y_val, y_test\n",
        "\n",
        "\n",
        "\n",
        "X, y = import_data(input_file)\n",
        "print(X.shape)  # torch.Size([70322, 11, 13])\n",
        "print(y.shape)  # torch.Size([70322, 1])\n",
        "print(y[:10])\n",
        "\n",
        "\n"
      ],
      "metadata": {
        "colab": {
          "base_uri": "https://localhost:8080/"
        },
        "id": "wOVlpdIX-EsG",
        "outputId": "1c039f42-7283-4dbe-d3b7-2a8fab8a03cd"
      },
      "execution_count": 20,
      "outputs": [
        {
          "output_type": "stream",
          "name": "stdout",
          "text": [
            "torch.Size([1, 70322, 13])\n",
            "torch.Size([70322, 1])\n",
            "tensor([[0.],\n",
            "        [0.],\n",
            "        [1.],\n",
            "        [1.],\n",
            "        [0.],\n",
            "        [1.],\n",
            "        [1.],\n",
            "        [0.],\n",
            "        [1.],\n",
            "        [0.]])\n"
          ]
        }
      ]
    },
    {
      "cell_type": "code",
      "execution_count": 21,
      "metadata": {
        "id": "IOilIqHD8G3x"
      },
      "outputs": [],
      "source": [
        "# CNN Model Class\n",
        "class CNNModel(nn.Module):\n",
        "    def __init__(self, device='cpu'):\n",
        "        super().__init__()\n",
        "        self.conv1 = nn.Conv2d(1, 1, 5, padding=(2, 1), padding_mode=\"reflect\")\n",
        "        self.conv2 = nn.Conv2d(1, 1, 5, padding=(2, 1), padding_mode=\"reflect\")\n",
        "        self.conv3 = nn.Conv2d(1, 1, 5, padding=(2, 1), padding_mode=\"reflect\")\n",
        "        self.conv4 = nn.Conv2d(1, 1, 5, padding=(2, 1), padding_mode=\"reflect\")\n",
        "        self.conv5 = nn.Conv2d(1, 1, 5, padding=(2, 1), padding_mode=\"reflect\")\n",
        "        self.pool = nn.MaxPool1d(1, 3)\n",
        "        self.sigmoid = nn.Sigmoid()\n",
        "        self.to(device)\n",
        "\n",
        "\n",
        "    def forward(self, x):\n",
        "        dropped_one, n, d = x.shape\n",
        "        x = x.reshape((1, 1, n, d))\n",
        "        x = self.conv1(x)\n",
        "        # print(x.shape)\n",
        "        x = self.conv2(x)\n",
        "        # print(x.shape)\n",
        "        x = self.conv3(x)\n",
        "        # print(x.shape)\n",
        "        x = self.conv4(x)\n",
        "        # print(x.shape)\n",
        "        x = self.conv5(x)\n",
        "        dopped_one_1, dropped_one_2, n, d = x.shape\n",
        "        x = x.reshape((1, n, d))\n",
        "        x = self.pool(x)\n",
        "        # print(x.shape)\n",
        "        x = self.sigmoid(x)\n",
        "        return x"
      ]
    },
    {
      "cell_type": "code",
      "source": [
        "def train(model, x_train, y_train, n_epochs=5, lr=0.0001):\n",
        "    optimizer = Adam(model.parameters(), lr=lr)\n",
        "    criterion = nn.BCELoss()\n",
        "\n",
        "    losses = []\n",
        "    for epoch in tqdm(range(n_epochs)):\n",
        "        optimizer.zero_grad()\n",
        "\n",
        "        output_train = model(x_train)\n",
        "        output_train = output_train.reshape((output_train.shape[1], output_train.shape[2]))\n",
        "        # print(output_train)\n",
        "        loss_train = criterion(output_train, y_train)\n",
        "        loss_train.backward()\n",
        "        optimizer.step()\n",
        "        loss_value = loss_train.item()\n",
        "        losses.append(loss_value)\n",
        "        if epoch % 100 == 0:\n",
        "            print(\"Epoch {}: loss = {}\".format(str(epoch), str(loss_value)))\n",
        "\n",
        "        if len(output_train.nonzero()) == 0:        # not sure if this works\n",
        "            print(\"Epoch {}: all zero output!\".format(str(epoch)))\n",
        "\n",
        "    return losses\n",
        "\n",
        "def calc_acc(y_pred, y, th=0.52):\n",
        "    #tp = 0\n",
        "    #tn = 0\n",
        "    size = len(y)\n",
        "    #for i in range(size):\n",
        "    #    if y_pred[i] >= th and y[i] == 1:\n",
        "    #        tp += 1\n",
        "    #    elif y_pred[i] < th and y[i] == 0:\n",
        "    #        tn += 1\n",
        "    #return float(tp + tn)*100/size\n",
        "    with torch.no_grad():\n",
        "        #print(y)\n",
        "        #print(y_pred)\n",
        "        y_th = torch.heaviside(y_pred - torch.tensor(th).expand_as(y_pred), torch.tensor(1.0).expand_as(y_pred))\n",
        "        tp = torch.sum(torch.logical_and(y_th, y))\n",
        "        p_pred = torch.sum(y_th)\n",
        "        p_label = torch.sum(y)\n",
        "        #print(y_th)\n",
        "        #print(torch.logical_xor(y_th, y))\n",
        "        acc = float(size - torch.sum(torch.logical_xor(y_th, y)))*100/size\n",
        "        prec = float(tp)*100/p_pred\n",
        "        rec = float(tp)*100/p_label\n",
        "    return [acc, prec, rec]\n"
      ],
      "metadata": {
        "id": "Y35BbzBp8NSO"
      },
      "execution_count": 22,
      "outputs": []
    },
    {
      "cell_type": "code",
      "source": [
        "# CNN Training\n",
        "# DEVICE = 'cuda' if torch.cuda.is_available() else 'cpu'\n",
        "\n",
        "model = CNNModel(DEVICE)"
      ],
      "metadata": {
        "id": "vn2GMOrr8RR2"
      },
      "execution_count": 23,
      "outputs": []
    },
    {
      "cell_type": "code",
      "source": [
        "# print loss visualization\n",
        "# print(losses)\n",
        "# plot\n",
        "losses = train(model, X_train, y_train, n_epochs=100, lr=0.001)\n",
        "plot_x = np.arange(1, 101)\n",
        "plot_y = np.array(losses)\n",
        "plt.plot(plot_x, plot_y)\n",
        "plt.title(\"CNN Loss over Epochs\")\n",
        "plt.xlabel(\"Epoch\")\n",
        "plt.ylabel(\"Loss\")\n"
      ],
      "metadata": {
        "colab": {
          "base_uri": "https://localhost:8080/",
          "height": 524
        },
        "id": "ZuvLOVuy8TKf",
        "outputId": "699df5ef-2c64-4876-9644-c8c1cc0f713d"
      },
      "execution_count": 24,
      "outputs": [
        {
          "output_type": "stream",
          "name": "stderr",
          "text": [
            "  1%|          | 1/100 [00:00<01:12,  1.36it/s]"
          ]
        },
        {
          "output_type": "stream",
          "name": "stdout",
          "text": [
            "Epoch 0: loss = 0.8428158760070801\n"
          ]
        },
        {
          "output_type": "stream",
          "name": "stderr",
          "text": [
            "100%|██████████| 100/100 [01:00<00:00,  1.66it/s]\n"
          ]
        },
        {
          "output_type": "execute_result",
          "data": {
            "text/plain": [
              "Text(0, 0.5, 'Loss')"
            ]
          },
          "metadata": {},
          "execution_count": 24
        },
        {
          "output_type": "display_data",
          "data": {
            "text/plain": [
              "<Figure size 640x480 with 1 Axes>"
            ],
            "image/png": "[encoded data removed]"
          },
          "metadata": {}
        }
      ]
    },
    {
      "cell_type": "code",
      "source": [
        "\n",
        "print(\"Hyperparameter tuning\")\n",
        "best_th = 0.0\n",
        "best_acc = 0.0\n",
        "with torch.no_grad():\n",
        "    for i in range(100):\n",
        "        th = i / 100.0\n",
        "        y_prediction = model(X_val)\n",
        "        y_prediction = y_prediction.reshape((y_prediction.shape[1], y_prediction.shape[2]))\n",
        "        evauluation_result = calc_acc(y_prediction, y_val, th=th)\n",
        "        accuracy = evauluation_result[0]\n",
        "        if accuracy > best_acc:\n",
        "            best_acc = accuracy\n",
        "            best_th = th\n",
        "    print(\"best threshold:\" + str(best_th))\n",
        "    print(best_acc)\n",
        "\n",
        "\n",
        "\n",
        "print(\"Evaluate on training data with best threshold\")\n",
        "with torch.no_grad():\n",
        "    y_prediction = model(X_train)\n",
        "    y_prediction = y_prediction.reshape((y_prediction.shape[1], y_prediction.shape[2]))\n",
        "    evauluation_result = calc_acc(y_prediction, y_train)\n",
        "    print(evauluation_result)\n",
        "\n",
        "\n",
        "# confusion matrix\n",
        "# Confusion Matrix on submission_model_XX\n",
        "import seaborn as sns\n",
        "import pandas as pd\n",
        "from sklearn.metrics import confusion_matrix\n",
        "\n",
        "def plot_confusion_matrix(tp, fp, fn, tn):\n",
        "    \"\"\"\n",
        "    Plots a confusion matrix using the values\n",
        "       tp - True Positive\n",
        "       fp - False Positive\n",
        "       fn - False Negative\n",
        "       tn - True Negative\n",
        "    \"\"\"\n",
        "    data = np.matrix([[tp, fp], [fn, tn]])\n",
        "\n",
        "    sns.heatmap(data,annot=True,xticklabels=['Actual Pos', 'Actual Neg']\n",
        "              ,yticklabels=['Pred. Pos', 'Pred. Neg'])\n",
        "\n",
        "def plot_model(model_name, predictions, labels):\n",
        "    y_true = labels\n",
        "    y_pred = predictions\n",
        "    x = confusion_matrix(y_true, y_pred)\n",
        "    tp = x[1][1]\n",
        "    fp = x[0][1]\n",
        "    tn = x[0][0]\n",
        "    fn = x[1][0]\n",
        "    ax= plt.subplot()\n",
        "    plot_confusion_matrix(tp=tp, fp=fp, tn=tn, fn=fn)\n",
        "    ax.set_xlabel('Predicted labels')\n",
        "    ax.set_ylabel('True labels')\n",
        "    ax.set_title('CNN Confusion Matrix')\n",
        "\n",
        "with torch.no_grad():\n",
        "    y_prediction = model(X_test)\n",
        "    y_prediction_confusion = y_prediction.reshape(y_prediction.shape[1])\n",
        "    y_th = torch.heaviside(y_prediction_confusion\n",
        "                           - torch.tensor(best_th).expand_as(y_prediction_confusion),\n",
        "                           torch.tensor(1.0).expand_as(y_prediction_confusion))\n",
        "    y_test_confusion = y_test.reshape(y_test.shape[0])\n",
        "    plot_model(\"\", y_th, y_test_confusion)\n",
        "\n",
        "print(\"Evaluate on testing data with best threshold\")\n",
        "with torch.no_grad():\n",
        "    y_prediction = model(X_test)\n",
        "    y_prediction = y_prediction.reshape((y_prediction.shape[1], y_prediction.shape[2]))\n",
        "    evauluation_result = calc_acc(y_prediction, y_test, th=best_th)\n",
        "    print(evauluation_result)"
      ],
      "metadata": {
        "colab": {
          "base_uri": "https://localhost:8080/",
          "height": 594
        },
        "id": "MQT49Rpg8Ver",
        "outputId": "0e185537-fcec-4fff-800d-7eedc3efd925"
      },
      "execution_count": 25,
      "outputs": [
        {
          "output_type": "stream",
          "name": "stdout",
          "text": [
            "Hyperparameter tuning\n",
            "best threshold:0.5\n",
            "51.483544303797466\n",
            "Evaluate on training data with best threshold\n",
            "[52.65350814823242, tensor(55.4389), tensor(43.7941)]\n",
            "Evaluate on testing data with best threshold\n",
            "[51.901336073997946, tensor(50.6883), tensor(56.6111)]\n"
          ]
        },
        {
          "output_type": "display_data",
          "data": {
            "text/plain": [
              "<Figure size 640x480 with 2 Axes>"
            ],
            "image/png": "[encoded data removed]"
          },
          "metadata": {}
        }
      ]
    }
  ]
}